{
 "cells": [
  {
   "cell_type": "code",
   "execution_count": null,
   "metadata": {},
   "outputs": [],
   "source": [
    "from gen1D import GEN1D\n",
    "import numpy as np\n",
    "import torch as torch"
   ]
  },
  {
   "cell_type": "code",
   "execution_count": 18,
   "metadata": {},
   "outputs": [],
   "source": [
    "model = GEN1D(num_nodes=10, device='cpu', encoder_dims=[2, 4, 8], decoder_dims=[8, 4, 1])"
   ]
  },
  {
   "cell_type": "code",
   "execution_count": 20,
   "metadata": {},
   "outputs": [
    {
     "data": {
      "image/png": "[encoded data removed]",
      "text/plain": [
       "<Figure size 800x200 with 1 Axes>"
      ]
     },
     "metadata": {},
     "output_type": "display_data"
    },
    {
     "name": "stdout",
     "output_type": "stream",
     "text": [
      "=== Paramètres du Graphe ===\n",
      "data_idx : -1\n",
      "Nombre de nœuds : 10\n",
      "Positions des nœuds :\n",
      "tensor([[0.0000, 0.0000],\n",
      "        [0.1111, 0.0000],\n",
      "        [0.2222, 0.0000],\n",
      "        [0.3333, 0.0000],\n",
      "        [0.4444, 0.0000],\n",
      "        [0.5556, 0.0000],\n",
      "        [0.6667, 0.0000],\n",
      "        [0.7778, 0.0000],\n",
      "        [0.8889, 0.0000],\n",
      "        [1.0000, 0.0000]])\n",
      "Matrice d'adjacence (edge_index) :\n",
      "tensor([[0, 1, 1, 2, 2, 3, 3, 4, 4, 5, 5, 6, 6, 7, 7, 8, 8, 9],\n",
      "        [1, 0, 2, 1, 3, 2, 4, 3, 5, 4, 6, 5, 7, 6, 8, 7, 9, 8]])\n",
      "Informations de grille : {'L': 1, 'min_X': 0, 'dx': 0.1111111111111111}\n",
      "Étapes de message (msg_steps) : 9\n",
      "Positions initiales (ini_pos) :\n",
      "Non défini\n"
     ]
    }
   ],
   "source": [
    "model.visualize_graph()\n",
    "model.display_graph_info()"
   ]
  },
  {
   "cell_type": "code",
   "execution_count": null,
   "metadata": {},
   "outputs": [],
   "source": [
    "def generate_dataset(hx, x, f, u0=None, uL=None):\n",
    "    \"\"\"\n",
    "    Génère un dataset pour l'équation stationnaire d²u/dx² = f(x) avec des conditions de Dirichlet.\n",
    "\n",
    "    Paramètres:\n",
    "        hx (float): Pas de discrétisation.\n",
    "        x (numpy.ndarray): Positions x discrétisées.\n",
    "        f (numpy.ndarray): Valeurs de la fonction source f(x).\n",
    "        u0 (float): Condition de Dirichlet à x = 0 (u(0) = u0).\n",
    "        uL (float): Condition de Dirichlet à x = L (u(L) = uL).\n",
    "\n",
    "    Retourne:\n",
    "        x_torch (torch.Tensor): Positions x discrétisées.\n",
    "        f_torch (torch.Tensor): Valeurs de la fonction source f(x).\n",
    "        u_torch (torch.Tensor): Valeurs de la solution numérique u(x).\n",
    "    \"\"\"\n",
    "    N = x.shape[0]\n",
    "    A = np.zeros((N, N))\n",
    "    np.fill_diagonal(A, 2 / hx**2)  # Diagonale principale\n",
    "    np.fill_diagonal(A[1:], -1 / hx**2)  # Diagonale sous-principale\n",
    "    np.fill_diagonal(A[:, 1:], -1 / hx**2)  # Diagonale sur-principale\n",
    "\n",
    "\n",
    "\n",
    "    B = np.zeros(N)\n",
    "    B[1:-1] = f[1:-1]\n",
    "\n",
    "    # Ajustement pour les conditions aux limites\n",
    "    if u0 is not None:\n",
    "        B[0] += u0 / hx**2   # Ajuste B pour inclure la condition u(0) = u0\n",
    "    if uL is not None:\n",
    "        B[-1] += uL / hx**2  # Ajuste B pour inclure la condition u(L) = uL\n",
    "\n",
    "    # Résoudre le système linéaire pour trouver U\n",
    "    U = np.linalg.solve(A, B)\n",
    "\n",
    "    # Appliquer les conditions aux limites aux extrémités de U\n",
    "    if u0 is not None:\n",
    "        U[0] = u0\n",
    "    if uL is not None:\n",
    "        U[-1] = uL\n",
    "\n",
    "\n",
    "    # Conversion en tenseurs PyTorch\n",
    "    x_torch = torch.tensor(x, dtype=torch.float32)\n",
    "    f_torch = torch.tensor(f, dtype=torch.float32)\n",
    "    u_torch = torch.tensor(U, dtype=torch.float32)\n",
    "\n",
    "    return x_torch, f_torch, u_torch"
   ]
  }
 ],
 "metadata": {
  "kernelspec": {
   "display_name": "Python 3",
   "language": "python",
   "name": "python3"
  },
  "language_info": {
   "codemirror_mode": {
    "name": "ipython",
    "version": 3
   },
   "file_extension": ".py",
   "mimetype": "text/x-python",
   "name": "python",
   "nbconvert_exporter": "python",
   "pygments_lexer": "ipython3",
   "version": "3.11.9"
  }
 },
 "nbformat": 4,
 "nbformat_minor": 2
}
